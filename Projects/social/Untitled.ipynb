{
 "cells": [
  {
   "cell_type": "code",
   "execution_count": 1,
   "metadata": {},
   "outputs": [],
   "source": [
    "import pandas as pd\n",
    "import numpy as np"
   ]
  },
  {
   "cell_type": "code",
   "execution_count": 2,
   "metadata": {},
   "outputs": [],
   "source": [
    "df = pd.read_csv('post.csv')"
   ]
  },
  {
   "cell_type": "code",
   "execution_count": 3,
   "metadata": {},
   "outputs": [
    {
     "data": {
      "text/plain": [
       "(20096, 9)"
      ]
     },
     "execution_count": 3,
     "metadata": {},
     "output_type": "execute_result"
    }
   ],
   "source": [
    "df.head()\n",
    "df.shape"
   ]
  },
  {
   "cell_type": "code",
   "execution_count": 4,
   "metadata": {},
   "outputs": [],
   "source": [
    "df.dropna(inplace=True)\n",
    "df['likes'].isna().sum()\n",
    "df.reset_index(inplace=True)"
   ]
  },
  {
   "cell_type": "code",
   "execution_count": 5,
   "metadata": {},
   "outputs": [],
   "source": [
    "data = df[['msg','likes']]"
   ]
  },
  {
   "cell_type": "code",
   "execution_count": 6,
   "metadata": {},
   "outputs": [],
   "source": [
    "import re\n",
    "def preprocessor(text):\n",
    "    text = re.sub('\\{[^\\{]*\\}', '', text)\n",
    "    emoticons = re.findall('(?::|;|=)(?:-)?(?:\\)|\\(|D|P)',text)\n",
    "    text = (re.sub('[\\W]+', ' ', text.lower()) +' '.join(emoticons).replace('-', ''))\n",
    "    return text"
   ]
  },
  {
   "cell_type": "code",
   "execution_count": 7,
   "metadata": {},
   "outputs": [],
   "source": [
    "text = \"I need wildlife advice. I saw a fox in my backyard nursing her pups. It sounds precious{COMMA} but they were right next to my kids{APOST} swing set. If she was nursing{COMMA} does that mean there{APOST}s a den nearby? And if so{COMMA} should I be concerned about the safety of my 2 and 3 year olds?\""
   ]
  },
  {
   "cell_type": "code",
   "execution_count": 8,
   "metadata": {},
   "outputs": [
    {
     "data": {
      "text/plain": [
       "'I need wildlife advice. I saw a fox in my backyard nursing her pups. It sounds precious but they were right next to my kids swing set. If she was nursing does that mean theres a den nearby? And if so should I be concerned about the safety of my 2 and 3 year olds?'"
      ]
     },
     "execution_count": 8,
     "metadata": {},
     "output_type": "execute_result"
    }
   ],
   "source": [
    "re.sub('\\{[^\\{]*\\}', '', text)"
   ]
  },
  {
   "cell_type": "code",
   "execution_count": 9,
   "metadata": {},
   "outputs": [
    {
     "name": "stdout",
     "output_type": "stream",
     "text": [
      "before preprocessing \n",
      " EP hive mind: can you recommend a good dermatologist?\n",
      "after preprocessing \n",
      " ep hive mind can you recommend a good dermatologist \n"
     ]
    }
   ],
   "source": [
    "print(\"before preprocessing \\n\" , data['msg'][0])\n",
    "print(\"after preprocessing \\n\" , preprocessor(data['msg'][0]))"
   ]
  },
  {
   "cell_type": "code",
   "execution_count": 10,
   "metadata": {},
   "outputs": [],
   "source": [
    "def tokenizer(text):\n",
    "    return text.split()"
   ]
  },
  {
   "cell_type": "code",
   "execution_count": 11,
   "metadata": {},
   "outputs": [
    {
     "data": {
      "text/plain": [
       "['runner', 'likes', 'running', 'runs', 'lot']"
      ]
     },
     "execution_count": 11,
     "metadata": {},
     "output_type": "execute_result"
    }
   ],
   "source": [
    "from nltk.corpus import stopwords\n",
    "\n",
    "stop = stopwords.words('english')\n",
    "[w for w in tokenizer('a runner likes running and runs a lot')[-10:] if w not in stop]"
   ]
  },
  {
   "cell_type": "code",
   "execution_count": 12,
   "metadata": {},
   "outputs": [],
   "source": [
    "def stream_docs(path):\n",
    "    with open(path, 'r', encoding='utf-8') as csv:\n",
    "        next(csv)  # skip header\n",
    "        for line in csv:\n",
    "            text, label = line[:-3], int(line[-2])\n",
    "            yield text, label"
   ]
  },
  {
   "cell_type": "code",
   "execution_count": 13,
   "metadata": {},
   "outputs": [],
   "source": [
    "def get_minibatch(doc_stream, size):\n",
    "    docs, y = [], []\n",
    "    try:\n",
    "        for _ in range(size):\n",
    "            text, label = next(doc_stream)\n",
    "            docs.append(text)\n",
    "            y.append(label)\n",
    "    except StopIteration:\n",
    "        return None, None\n",
    "    return docs, y"
   ]
  },
  {
   "cell_type": "code",
   "execution_count": 14,
   "metadata": {},
   "outputs": [],
   "source": [
    "from sklearn.pipeline import Pipeline\n",
    "from sklearn.linear_model import LogisticRegression\n",
    "from sklearn.feature_extraction.text import TfidfVectorizer\n",
    "from sklearn.model_selection import GridSearchCV\n",
    "from sklearn.ensemble import RandomForestRegressor , RandomForestClassifier\n",
    "from sklearn.tree import DecisionTreeRegressor\n",
    "from sklearn.model_selection import train_test_split\n",
    "from sklearn.feature_extraction.text import CountVectorizer\n",
    "from sklearn.feature_extraction.text import HashingVectorizer\n",
    "\n",
    "\n",
    "count = CountVectorizer(stop_words='english',\n",
    "                        max_df=.1,\n",
    "                        max_features=5000)\n",
    "\n",
    "tfidf = TfidfVectorizer(strip_accents=None,\n",
    "                        lowercase=False,\n",
    "                       stop_words=stop,\n",
    "                       preprocessor=preprocessor)\n",
    "\n",
    "# Hvect = HashingVectorizer(decode_error='ignore', \n",
    "#                          n_features=2**21,\n",
    "#                          preprocessor=None, \n",
    "#                          tokenizer=tokenizer)\n",
    "\n",
    "lr_tfidf = Pipeline([('vect', tfidf),\n",
    "                     ('clf', RandomForestClassifier())])"
   ]
  },
  {
   "cell_type": "code",
   "execution_count": 15,
   "metadata": {},
   "outputs": [],
   "source": [
    "X_train, X_test, y_train, y_test = train_test_split(data['msg'], data['likes'], test_size=0.2, random_state=0)"
   ]
  },
  {
   "cell_type": "code",
   "execution_count": 16,
   "metadata": {},
   "outputs": [
    {
     "data": {
      "text/plain": [
       "Pipeline(steps=[('vect',\n",
       "                 TfidfVectorizer(lowercase=False,\n",
       "                                 preprocessor=<function preprocessor at 0x000001D4C13204C0>,\n",
       "                                 stop_words=['i', 'me', 'my', 'myself', 'we',\n",
       "                                             'our', 'ours', 'ourselves', 'you',\n",
       "                                             \"you're\", \"you've\", \"you'll\",\n",
       "                                             \"you'd\", 'your', 'yours',\n",
       "                                             'yourself', 'yourselves', 'he',\n",
       "                                             'him', 'his', 'himself', 'she',\n",
       "                                             \"she's\", 'her', 'hers', 'herself',\n",
       "                                             'it', \"it's\", 'its', 'itself', ...])),\n",
       "                ('clf', RandomForestClassifier())])"
      ]
     },
     "execution_count": 16,
     "metadata": {},
     "output_type": "execute_result"
    }
   ],
   "source": [
    "lr_tfidf.fit(X_train,y_train)"
   ]
  },
  {
   "cell_type": "code",
   "execution_count": 22,
   "metadata": {},
   "outputs": [
    {
     "name": "stdout",
     "output_type": "stream",
     "text": [
      "train score =  0.9555132421672148\n",
      "test score =  0.27137417791623397\n"
     ]
    }
   ],
   "source": [
    "print(\"train score = \",lr_tfidf.score(X_train , y_train))\n",
    "print(\"test score = \",lr_tfidf.score(X_test , y_test))"
   ]
  },
  {
   "cell_type": "code",
   "execution_count": 18,
   "metadata": {},
   "outputs": [
    {
     "name": "stdout",
     "output_type": "stream",
     "text": [
      "+--------+-----------+\n",
      "| Actual | predicted |\n",
      "+--------+-----------+\n",
      "|  7.0   |    2.0    |\n",
      "|  1.0   |    1.0    |\n",
      "|  1.0   |    2.0    |\n",
      "|  3.0   |    1.0    |\n",
      "|  16.0  |    1.0    |\n",
      "|  1.0   |    2.0    |\n",
      "|  1.0   |    1.0    |\n",
      "|  3.0   |    1.0    |\n",
      "|  27.0  |    1.0    |\n",
      "|  4.0   |    1.0    |\n",
      "|  5.0   |    1.0    |\n",
      "|  1.0   |    1.0    |\n",
      "|  1.0   |    1.0    |\n",
      "|  2.0   |    1.0    |\n",
      "|  3.0   |    1.0    |\n",
      "|  3.0   |    5.0    |\n",
      "|  1.0   |    1.0    |\n",
      "|  3.0   |    1.0    |\n",
      "|  1.0   |    3.0    |\n",
      "|  1.0   |    1.0    |\n",
      "|  2.0   |    1.0    |\n",
      "|  2.0   |    1.0    |\n",
      "|  6.0   |    6.0    |\n",
      "|  8.0   |    1.0    |\n",
      "|  17.0  |    2.0    |\n",
      "|  2.0   |    1.0    |\n",
      "|  1.0   |    1.0    |\n",
      "|  11.0  |    1.0    |\n",
      "|  78.0  |    44.0   |\n",
      "|  1.0   |    1.0    |\n",
      "|  1.0   |    1.0    |\n",
      "|  7.0   |    1.0    |\n",
      "|  1.0   |    1.0    |\n",
      "|  2.0   |    1.0    |\n",
      "|  18.0  |    14.0   |\n",
      "|  45.0  |    1.0    |\n",
      "|  34.0  |    3.0    |\n",
      "|  4.0   |    2.0    |\n",
      "|  27.0  |    3.0    |\n",
      "|  2.0   |    1.0    |\n",
      "+--------+-----------+\n"
     ]
    }
   ],
   "source": [
    "from prettytable import PrettyTable\n",
    "\n",
    "until_n = 40;\n",
    "table = PrettyTable()\n",
    "table.field_names = [\"Actual\",'predicted']\n",
    "a_y_test = y_test[:until_n]\n",
    "b_y_test = lr_tfidf.predict(X_test[:until_n])\n",
    "\n",
    "for i in range(until_n):\n",
    "    table.add_row([a_y_test.iloc[i],b_y_test[i]])\n",
    "\n",
    "print(table)"
   ]
  },
  {
   "cell_type": "code",
   "execution_count": 30,
   "metadata": {},
   "outputs": [
    {
     "data": {
      "image/png": "[encoded data removed]",
      "text/plain": [
       "<Figure size 432x288 with 1 Axes>"
      ]
     },
     "metadata": {
      "needs_background": "light"
     },
     "output_type": "display_data"
    }
   ],
   "source": [
    "y_test_pred = lr_tfidf.predict(X_test)\n",
    "plt.scatter(y_test,y_test-y_test_pred ,c='limegreen', marker='s', edgecolor='white',label='Test data')\n",
    "plt.xlabel('Predicted values')\n",
    "plt.ylabel('Residuals')\n",
    "plt.legend(loc='upper left')\n",
    "plt.hlines(y=0, xmin=-10, xmax=150, color='black', lw=2)\n",
    "plt.show()"
   ]
  },
  {
   "cell_type": "code",
   "execution_count": 40,
   "metadata": {},
   "outputs": [],
   "source": [
    "import numpy as np\n",
    "import matplotlib.pyplot as plt\n",
    "\n",
    "\n",
    "class ResidualPlot:\n",
    "\n",
    "    def __init__(self, y, pred_y):\n",
    "        self.__y = np.array(y)\n",
    "        self.__predicted_y = np.array(pred_y)\n",
    "        self.__residual = self.__predicted_y - self.__y\n",
    "        self.__residual2 = self.__y - self.__predicted_y\n",
    "\n",
    "    def draw(self):\n",
    "        plt.figure(np.random.randint(2000))\n",
    "        plt.scatter(self.__predicted_y, self.__predicted_y - self.__y)\n",
    "        plt.axhline(0, color='red')\n",
    "        plt.xlabel(\"Y Hat\")\n",
    "        plt.ylabel(\"Residua\")\n",
    "        plt.show()\n",
    "\n",
    "    def draw2(self):\n",
    "        plt.figure(np.random.randint(2000))\n",
    "        plt.scatter(self.__y, self.__y - self.__predicted_y)\n",
    "        plt.axhline(0, color='red')\n",
    "        plt.xlabel(\"Y\")\n",
    "        plt.ylabel(\"Residua\")\n",
    "        plt.show()\n",
    "\n",
    "\n",
    "res = ResidualPlot(y=y_test ,pred_y=lr_tfidf.predict(X_test))\n"
   ]
  },
  {
   "cell_type": "code",
   "execution_count": 41,
   "metadata": {},
   "outputs": [
    {
     "data": {
      "image/png": "[encoded data removed]",
      "text/plain": [
       "<Figure size 432x288 with 1 Axes>"
      ]
     },
     "metadata": {
      "needs_background": "light"
     },
     "output_type": "display_data"
    },
    {
     "data": {
      "image/png": "[encoded data removed]",
      "text/plain": [
       "<Figure size 432x288 with 1 Axes>"
      ]
     },
     "metadata": {
      "needs_background": "light"
     },
     "output_type": "display_data"
    }
   ],
   "source": [
    "res.draw()\n",
    "res.draw2()\n"
   ]
  },
  {
   "cell_type": "code",
   "execution_count": 21,
   "metadata": {},
   "outputs": [
    {
     "data": {
      "text/plain": [
       "True"
      ]
     },
     "execution_count": 21,
     "metadata": {},
     "output_type": "execute_result"
    }
   ],
   "source": [
    "y_train.all()"
   ]
  }
 ],
 "metadata": {
  "kernelspec": {
   "display_name": "Python 3",
   "language": "python",
   "name": "python3"
  },
  "language_info": {
   "codemirror_mode": {
    "name": "ipython",
    "version": 3
   },
   "file_extension": ".py",
   "mimetype": "text/x-python",
   "name": "python",
   "nbconvert_exporter": "python",
   "pygments_lexer": "ipython3",
   "version": "3.8.2"
  }
 },
 "nbformat": 4,
 "nbformat_minor": 4
}
